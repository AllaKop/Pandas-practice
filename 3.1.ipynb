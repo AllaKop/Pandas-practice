{
 "cells": [
  {
   "cell_type": "code",
   "execution_count": 51,
   "metadata": {},
   "outputs": [],
   "source": [
    "#  Import the necessary libraries\n",
    "import pandas as pd"
   ]
  },
  {
   "cell_type": "code",
   "execution_count": 52,
   "metadata": {},
   "outputs": [
    {
     "data": {
      "text/html": [
       "<div>\n",
       "<style scoped>\n",
       "    .dataframe tbody tr th:only-of-type {\n",
       "        vertical-align: middle;\n",
       "    }\n",
       "\n",
       "    .dataframe tbody tr th {\n",
       "        vertical-align: top;\n",
       "    }\n",
       "\n",
       "    .dataframe thead th {\n",
       "        text-align: right;\n",
       "    }\n",
       "</style>\n",
       "<table border=\"1\" class=\"dataframe\">\n",
       "  <thead>\n",
       "    <tr style=\"text-align: right;\">\n",
       "      <th></th>\n",
       "      <th>country</th>\n",
       "      <th>beer_servings</th>\n",
       "      <th>spirit_servings</th>\n",
       "      <th>wine_servings</th>\n",
       "      <th>total_litres_of_pure_alcohol</th>\n",
       "      <th>continent</th>\n",
       "    </tr>\n",
       "  </thead>\n",
       "  <tbody>\n",
       "  </tbody>\n",
       "</table>\n",
       "</div>"
      ],
      "text/plain": [
       "Empty DataFrame\n",
       "Columns: [country, beer_servings, spirit_servings, wine_servings, total_litres_of_pure_alcohol, continent]\n",
       "Index: []"
      ]
     },
     "execution_count": 52,
     "metadata": {},
     "output_type": "execute_result"
    }
   ],
   "source": [
    "# Import the dataset from this address\n",
    "url = \"https://raw.githubusercontent.com/justmarkham/DAT8/master/data/drinks.csv\"\n",
    "\n",
    "# Assign it to a variable called drinks\n",
    "drinks = pd.read_csv(url)\n",
    "drinks.head(0)"
   ]
  },
  {
   "cell_type": "code",
   "execution_count": 53,
   "metadata": {},
   "outputs": [
    {
     "data": {
      "text/html": [
       "<div>\n",
       "<style scoped>\n",
       "    .dataframe tbody tr th:only-of-type {\n",
       "        vertical-align: middle;\n",
       "    }\n",
       "\n",
       "    .dataframe tbody tr th {\n",
       "        vertical-align: top;\n",
       "    }\n",
       "\n",
       "    .dataframe thead th {\n",
       "        text-align: right;\n",
       "    }\n",
       "</style>\n",
       "<table border=\"1\" class=\"dataframe\">\n",
       "  <thead>\n",
       "    <tr style=\"text-align: right;\">\n",
       "      <th></th>\n",
       "      <th>beer_servings</th>\n",
       "    </tr>\n",
       "    <tr>\n",
       "      <th>continent</th>\n",
       "      <th></th>\n",
       "    </tr>\n",
       "  </thead>\n",
       "  <tbody>\n",
       "    <tr>\n",
       "      <th>EU</th>\n",
       "      <td>193.777778</td>\n",
       "    </tr>\n",
       "  </tbody>\n",
       "</table>\n",
       "</div>"
      ],
      "text/plain": [
       "           beer_servings\n",
       "continent               \n",
       "EU            193.777778"
      ]
     },
     "execution_count": 53,
     "metadata": {},
     "output_type": "execute_result"
    }
   ],
   "source": [
    "# Which continent drinks more beer on average?\n",
    "beer = drinks[['continent', 'beer_servings']]\n",
    "average_beer_per_continent = beer.groupby('continent').mean('beer_servings')\n",
    "average_beer_per_continent.sort_values('beer_servings', ascending=False).head(1)\n"
   ]
  },
  {
   "cell_type": "code",
   "execution_count": 54,
   "metadata": {},
   "outputs": [
    {
     "data": {
      "text/plain": [
       "<bound method NDFrame.head of            wine_servings\n",
       "continent               \n",
       "AF                   862\n",
       "AS                   399\n",
       "EU                  6400\n",
       "OC                   570\n",
       "SA                   749>"
      ]
     },
     "execution_count": 54,
     "metadata": {},
     "output_type": "execute_result"
    }
   ],
   "source": [
    "# For each continent print the statistics for wine consumption\n",
    "wine_consumption = drinks[['continent', 'wine_servings']]\n",
    "wine_consumption = wine_consumption.groupby('continent').sum('wine_servings')\n",
    "wine_consumption.head\n"
   ]
  },
  {
   "cell_type": "code",
   "execution_count": 64,
   "metadata": {},
   "outputs": [
    {
     "data": {
      "text/plain": [
       "<bound method NDFrame.head of            wine_servings  beer_servings  spirit_servings  \\\n",
       "continent                                                  \n",
       "AF             16.264151      61.471698        16.339623   \n",
       "AS              9.068182      37.045455        60.840909   \n",
       "EU            142.222222     193.777778       132.555556   \n",
       "OC             35.625000      89.687500        58.437500   \n",
       "SA             62.416667     175.083333       114.750000   \n",
       "\n",
       "           total_litres_of_pure_alcohol  \n",
       "continent                                \n",
       "AF                             3.007547  \n",
       "AS                             2.170455  \n",
       "EU                             8.617778  \n",
       "OC                             3.381250  \n",
       "SA                             6.308333  >"
      ]
     },
     "execution_count": 64,
     "metadata": {},
     "output_type": "execute_result"
    }
   ],
   "source": [
    "# Print the mean alcohol consumption per continent for every column\n",
    "alcohol_consumption = drinks[['continent', 'wine_servings', 'beer_servings', 'spirit_servings', 'total_litres_of_pure_alcohol']]\n",
    "alcohol_consumption = alcohol_consumption.groupby('continent').mean(['wine_servings', 'beer_servings', 'spirit_servings', 'total_litres_of_pure_alcohol'])\n",
    "alcohol_consumption.head"
   ]
  },
  {
   "cell_type": "code",
   "execution_count": 65,
   "metadata": {},
   "outputs": [
    {
     "data": {
      "text/plain": [
       "<bound method NDFrame.head of            wine_servings  beer_servings  spirit_servings  \\\n",
       "continent                                                  \n",
       "AF                   2.0           32.0              3.0   \n",
       "AS                   1.0           17.5             16.0   \n",
       "EU                 128.0          219.0            122.0   \n",
       "OC                   8.5           52.5             37.0   \n",
       "SA                  12.0          162.5            108.5   \n",
       "\n",
       "           total_litres_of_pure_alcohol  \n",
       "continent                                \n",
       "AF                                 2.30  \n",
       "AS                                 1.20  \n",
       "EU                                10.00  \n",
       "OC                                 1.75  \n",
       "SA                                 6.85  >"
      ]
     },
     "execution_count": 65,
     "metadata": {},
     "output_type": "execute_result"
    }
   ],
   "source": [
    "# Print the median alcohol consumption per continent for every column\n",
    "alcohol_consumption = drinks[['continent', 'wine_servings', 'beer_servings', 'spirit_servings', 'total_litres_of_pure_alcohol']]\n",
    "alcohol_consumption = alcohol_consumption.groupby('continent').median(['wine_servings', 'beer_servings', 'spirit_servings', 'total_litres_of_pure_alcohol'])\n",
    "alcohol_consumption.head"
   ]
  },
  {
   "cell_type": "code",
   "execution_count": 85,
   "metadata": {},
   "outputs": [
    {
     "name": "stdout",
     "output_type": "stream",
     "text": [
      "min      0\n",
      "max    438\n",
      "Name: spirit_servings, dtype: int64\n",
      "80.99481865284974\n"
     ]
    },
    {
     "name": "stderr",
     "output_type": "stream",
     "text": [
      "/var/folders/np/0sqwvl_17pz16nrbjs05_0k00000gn/T/ipykernel_3561/13622445.py:2: FutureWarning: The provided callable <built-in function min> is currently using Series.min. In a future version of pandas, the provided callable will be used directly. To keep current behavior pass the string \"min\" instead.\n",
      "  min_and_max = drinks.spirit_servings.agg([min, max])\n",
      "/var/folders/np/0sqwvl_17pz16nrbjs05_0k00000gn/T/ipykernel_3561/13622445.py:2: FutureWarning: The provided callable <built-in function max> is currently using Series.max. In a future version of pandas, the provided callable will be used directly. To keep current behavior pass the string \"max\" instead.\n",
      "  min_and_max = drinks.spirit_servings.agg([min, max])\n"
     ]
    }
   ],
   "source": [
    "# Print the mean, min and max values for spirit consumption\n",
    "min_and_max = drinks.spirit_servings.agg([min, max])\n",
    "average = drinks.spirit_servings.mean()\n",
    "print(min_and_max)\n",
    "print(average)"
   ]
  }
 ],
 "metadata": {
  "kernelspec": {
   "display_name": "Python 3",
   "language": "python",
   "name": "python3"
  },
  "language_info": {
   "codemirror_mode": {
    "name": "ipython",
    "version": 3
   },
   "file_extension": ".py",
   "mimetype": "text/x-python",
   "name": "python",
   "nbconvert_exporter": "python",
   "pygments_lexer": "ipython3",
   "version": "3.12.0"
  }
 },
 "nbformat": 4,
 "nbformat_minor": 2
}
