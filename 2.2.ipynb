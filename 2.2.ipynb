{
 "cells": [
  {
   "cell_type": "code",
   "execution_count": 112,
   "metadata": {},
   "outputs": [
    {
     "data": {
      "text/html": [
       "<div>\n",
       "<style scoped>\n",
       "    .dataframe tbody tr th:only-of-type {\n",
       "        vertical-align: middle;\n",
       "    }\n",
       "\n",
       "    .dataframe tbody tr th {\n",
       "        vertical-align: top;\n",
       "    }\n",
       "\n",
       "    .dataframe thead th {\n",
       "        text-align: right;\n",
       "    }\n",
       "</style>\n",
       "<table border=\"1\" class=\"dataframe\">\n",
       "  <thead>\n",
       "    <tr style=\"text-align: right;\">\n",
       "      <th></th>\n",
       "      <th>Team</th>\n",
       "      <th>Shooting Accuracy</th>\n",
       "    </tr>\n",
       "  </thead>\n",
       "  <tbody>\n",
       "    <tr>\n",
       "      <th>3</th>\n",
       "      <td>England</td>\n",
       "      <td>50.0%</td>\n",
       "    </tr>\n",
       "    <tr>\n",
       "      <th>7</th>\n",
       "      <td>Italy</td>\n",
       "      <td>43.0%</td>\n",
       "    </tr>\n",
       "    <tr>\n",
       "      <th>12</th>\n",
       "      <td>Russia</td>\n",
       "      <td>22.5%</td>\n",
       "    </tr>\n",
       "  </tbody>\n",
       "</table>\n",
       "</div>"
      ],
      "text/plain": [
       "       Team Shooting Accuracy\n",
       "3   England             50.0%\n",
       "7     Italy             43.0%\n",
       "12   Russia             22.5%"
      ]
     },
     "execution_count": 112,
     "metadata": {},
     "output_type": "execute_result"
    }
   ],
   "source": [
    "import pandas as pd\n",
    "\n",
    "# Import the dataset from this address.\n",
    "url = \"https://raw.githubusercontent.com/guipsamora/pandas_exercises/master/02_Filtering_%26_Sorting/Euro12/Euro_2012_stats_TEAM.csv\"\n",
    "\n",
    "# Assign it to a variable called euro12\n",
    "euro12 = pd.read_csv(url)\n",
    "\n",
    "# Select only the Goal column\n",
    "euro12.loc[:, 'Goals']\n",
    "\n",
    "# How many team participated in the Euro2012?\n",
    "euro12.Team.count()\n",
    "\n",
    "# What is the number of columns in the dataset?\n",
    "len(euro12.columns)\n",
    "\n",
    "#  View only the columns Team, Yellow Cards and Red Cards and assign them to a dataframe called discipline\n",
    "discipline = euro12.loc[:,['Team', 'Yellow Cards', 'Red Cards']]\n",
    "\n",
    "# Sort the teams by Red Cards, then to Yellow Cards\n",
    "discipline.sort_values(by = ['Red Cards', 'Yellow Cards'])\n",
    "\n",
    "# Calculate the mean Yellow Cards given per Team\n",
    "yellowcards_per_team = discipline.loc[:,['Team', 'Yellow Cards']]\n",
    "yellowcards_per_team.groupby('Team').mean('Yellow Cards')\n",
    "\n",
    "# OR\n",
    "discipline.groupby('Team') ['Yellow Cards'].mean()\n",
    "\n",
    "# Filter teams that scored more than 6 goals\n",
    "euro12.loc[(euro12.Goals >=6)]\n",
    "\n",
    "# Select the teams that start with G\n",
    "teams_started_with_G = euro12[euro12.Team.str.startswith('G')]\n",
    "\n",
    "# Select the first 7 columns\n",
    "euro12.iloc[:,0:7]\n",
    "\n",
    "# Select all columns except the last 3\n",
    "euro12.iloc[:,0:-3]\n",
    "\n",
    "#  Present only the Shooting Accuracy from England, Italy and Russia\n",
    "selected_countries = euro12.loc[euro12.Team.isin(['England', 'Italy', 'Russia'])]\n",
    "selected_countries.loc[:,['Team','Shooting Accuracy']]\n"
   ]
  },
  {
   "cell_type": "code",
   "execution_count": null,
   "metadata": {},
   "outputs": [],
   "source": []
  }
 ],
 "metadata": {
  "kernelspec": {
   "display_name": "Python 3",
   "language": "python",
   "name": "python3"
  },
  "language_info": {
   "codemirror_mode": {
    "name": "ipython",
    "version": 3
   },
   "file_extension": ".py",
   "mimetype": "text/x-python",
   "name": "python",
   "nbconvert_exporter": "python",
   "pygments_lexer": "ipython3",
   "version": "3.12.0"
  }
 },
 "nbformat": 4,
 "nbformat_minor": 2
}
